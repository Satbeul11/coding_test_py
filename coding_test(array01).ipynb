{
  "nbformat": 4,
  "nbformat_minor": 0,
  "metadata": {
    "colab": {
      "provenance": [],
      "authorship_tag": "ABX9TyPkjdv1FMiO5eMvWCwDkPcX",
      "include_colab_link": true
    },
    "kernelspec": {
      "name": "python3",
      "display_name": "Python 3"
    },
    "language_info": {
      "name": "python"
    }
  },
  "cells": [
    {
      "cell_type": "markdown",
      "metadata": {
        "id": "view-in-github",
        "colab_type": "text"
      },
      "source": [
        "<a href=\"https://colab.research.google.com/github/Satbeul11/coding_test_py/blob/main/coding_test(array01).ipynb\" target=\"_parent\"><img src=\"https://colab.research.google.com/assets/colab-badge.svg\" alt=\"Open In Colab\"/></a>"
      ]
    },
    {
      "cell_type": "code",
      "execution_count": 1,
      "metadata": {
        "id": "c8m7RVzRg3Er"
      },
      "outputs": [],
      "source": [
        "fruits =['apple', 'banana', 'cherry', 'apple', 'orange', 'banana', 'kiwi']\n",
        "\n",
        "fruits.sort(reverse=True)"
      ]
    },
    {
      "cell_type": "code",
      "source": [
        "fruits"
      ],
      "metadata": {
        "colab": {
          "base_uri": "https://localhost:8080/"
        },
        "id": "RTj71QkkhFKf",
        "outputId": "3be49d55-3359-45a9-dfb2-2a0037f86129"
      },
      "execution_count": 2,
      "outputs": [
        {
          "output_type": "execute_result",
          "data": {
            "text/plain": [
              "['orange', 'kiwi', 'cherry', 'banana', 'banana', 'apple', 'apple']"
            ]
          },
          "metadata": {},
          "execution_count": 2
        }
      ]
    },
    {
      "cell_type": "code",
      "source": [
        "import time\n",
        "\n",
        "def bubble_sort(arr):\n",
        "  n = len(arr) # n=7, j=5\n",
        "  for i in range(n):\n",
        "    for j in range(n-i-1):\n",
        "      if arr[j] > arr[j+1]:\n",
        "        arr[j], arr[j+1] = arr[j+1], arr[j]\n",
        "  return arr\n",
        "\n",
        "def do_sort(arr):\n",
        "  arr.sort()\n",
        "  return arr\n",
        "\n",
        "def measure_time(func, arr):\n",
        "  start_time = time.time()  # Call time.time() to get the current time\n",
        "  result = func(arr)\n",
        "  end_time = time.time()\n",
        "  return end_time - start_time, result\n",
        "\n",
        "arr = list(range(10000))\n",
        "\n",
        "bubble_time, bubble_result = measure_time(bubble_sort, arr)\n",
        "print(\"1코드는\", format(bubble_time, \".10f\"))\n",
        "\n",
        "arr = list(range(10000))\n",
        "reverse_time, reverse_result = measure_time(do_sort, arr)\n",
        "print(\"2코드는\", format(reverse_time, \".10f\")) # Corrected typo from sort_time to reverse_time"
      ],
      "metadata": {
        "colab": {
          "base_uri": "https://localhost:8080/"
        },
        "id": "nImoV2pZhGt1",
        "outputId": "5103ee4e-6518-4acc-d536-8e85692b6d0b"
      },
      "execution_count": 9,
      "outputs": [
        {
          "output_type": "stream",
          "name": "stdout",
          "text": [
            "1코드는 3.3189737797\n",
            "2코드는 0.0000669956\n"
          ]
        }
      ]
    },
    {
      "cell_type": "code",
      "source": [
        "def solution(arr) :\n",
        "  unique_list = list(set(arr))\n",
        "  unique_list.sort(reverse=True)\n",
        "  return sorted_list"
      ],
      "metadata": {
        "id": "Rrve1oBdkiTH"
      },
      "execution_count": 10,
      "outputs": []
    },
    {
      "cell_type": "code",
      "source": [
        "\"\"\"\n",
        "1. (1,2),(1,3) 이렇게 하나씩 더함\n",
        "이후에는 (2,3),(2,4) 이렇게\n",
        "\n",
        "2. 세트로 만듦\n",
        "\n",
        "3. 소트\n",
        "\"\"\"\n",
        "def solution(arr):\n",
        "  new_arr = []\n",
        "  n= len(arr)\n",
        "  for i in range(n):\n",
        "    for j in range(n-i-1): # list=0~6, n=7, i=0~6, i+j+1= i=0> 1~6 / i=1 > j>0~4 i+j+1 > 2~6 / i=6 > j=0\n",
        "      new_arr.append(arr[i]+arr[i+j+1])\n",
        "  set_list = list(set(new_arr))\n",
        "  set_list.sort()\n",
        "  return set_list\n",
        "\n",
        "\n",
        "solution([2,1,3,4,1])\n",
        "solution([5,0,2,7])"
      ],
      "metadata": {
        "colab": {
          "base_uri": "https://localhost:8080/"
        },
        "id": "TclTo9AlnvrX",
        "outputId": "675fa9ad-4588-47f1-d9f2-d4b5d24099b1"
      },
      "execution_count": 12,
      "outputs": [
        {
          "output_type": "execute_result",
          "data": {
            "text/plain": [
              "[2, 5, 7, 9, 12]"
            ]
          },
          "metadata": {},
          "execution_count": 12
        }
      ]
    },
    {
      "cell_type": "code",
      "source": [],
      "metadata": {
        "id": "maZerjlVtYVo"
      },
      "execution_count": null,
      "outputs": []
    }
  ]
}