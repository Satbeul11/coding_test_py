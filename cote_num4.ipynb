{
  "nbformat": 4,
  "nbformat_minor": 0,
  "metadata": {
    "colab": {
      "provenance": [],
      "authorship_tag": "ABX9TyMX98DXP1omPbhBgWJeVtfm",
      "include_colab_link": true
    },
    "kernelspec": {
      "name": "python3",
      "display_name": "Python 3"
    },
    "language_info": {
      "name": "python"
    }
  },
  "cells": [
    {
      "cell_type": "markdown",
      "metadata": {
        "id": "view-in-github",
        "colab_type": "text"
      },
      "source": [
        "<a href=\"https://colab.research.google.com/github/Satbeul11/coding_test_py/blob/main/cote_num4.ipynb\" target=\"_parent\"><img src=\"https://colab.research.google.com/assets/colab-badge.svg\" alt=\"Open In Colab\"/></a>"
      ]
    },
    {
      "cell_type": "code",
      "execution_count": 11,
      "metadata": {
        "colab": {
          "base_uri": "https://localhost:8080/"
        },
        "id": "OwFqWNxVODbB",
        "outputId": "a84994c2-6502-4eef-8206-aab7d2dbf7eb"
      },
      "outputs": [
        {
          "output_type": "stream",
          "name": "stdout",
          "text": [
            "a\n"
          ]
        }
      ],
      "source": [
        "\"\"\"\n",
        "1번 : 12345\n",
        "2번 : 21 23 24 25\n",
        "3번 : 33 11 22 44 55\n",
        "\n",
        "1. 정답 리스트를 받는다\n",
        "2. 정답 리스트 len 함\n",
        "3. 각 사람의 리스트 생성\n",
        "4. 0번 부터 끝까지 하나씩 비교함\n",
        "5. 맞으면 카운트 하나씩 늘어남\n",
        "6. 각 사람 비교해서 랭크 매김\n",
        "7. 같으면 오름차순\n",
        "\n",
        "# 2번에서 / 2, 4, 6, 8 / 10, 12, 14, 16 / 8로 나눴을 때 2, 4, 6, 0\n",
        "\n",
        "# 3번에서 1~10이 반복, 10, 1~10\n",
        "\n",
        "\"\"\"\n",
        "\n",
        "\n",
        "def solution(arr):\n",
        "  num_list = len(arr)\n",
        "  list_a, list_b, list_c = []\n",
        "\n",
        "  # 1번 리스트 만들기\n",
        "  for i in range(num_list):\n",
        "    num = i % 5\n",
        "    list_a.append(num)\n",
        "\n",
        "  # 2번 리스트 만들기\n",
        "  for i in range(num_list):\n",
        "    if i % 2 == 1:\n",
        "      list_b.append(2)\n",
        "    elif i % 8 == 2:\n",
        "      list_b.append(1)\n",
        "    elif i % 8 == 4:\n",
        "      list_b.append(3)\n",
        "    elif i % 8 == 6:\n",
        "      list_b.append(4)\n",
        "    elif i % 8 == 0:\n",
        "      list_b.append(5)\n",
        "\n",
        "  # 3번 리스트 만들기\n",
        "  for i in range(num_list):\n",
        "    if i % 10 == 1 or 2 :\n",
        "      list_c.append(3)\n",
        "    elif i % 10 == 3 or 4 :\n",
        "      list_c.append(1)\n",
        "    elif i % 10 == 5 or 6 :\n",
        "      list_c.append(2)\n",
        "    elif i % 10 == 7 or 8 :\n",
        "      list_c.append(4)\n",
        "    elif i % 10 == 9 or 0 :\n",
        "      list_c.append(5)\n",
        "\n",
        "  # 하나씩 비교 1번부터\n",
        "  for i in range(num_list):\n",
        "    count_a = 0\n",
        "    count_b = 0\n",
        "    count_c = 0\n",
        "\n",
        "    if arr[i] == list_a[i]:\n",
        "      count_a += 1\n",
        "\n",
        "    if arr[i] == list_b[i]:\n",
        "      count_b += 1\n",
        "\n",
        "    if arr[i] == list_c[i]:\n",
        "      count_c += 1\n",
        "\n",
        "  rank_dic = {}\n",
        "\n",
        "  rank_dic['a'] = count_a\n",
        "  rank_dic['b'] = count_b\n",
        "  rank_dic['c'] = count_c\n",
        "\n",
        "  rank_dic.sort()\n",
        "\n",
        "#  print(list(rank_dic.keys))\n",
        "\n",
        "  if len(set(list(rank_dic.values))) == 1:\n",
        "    print(list(rank_dic.keys)[0])\n",
        "\n",
        "  if len(set(list(rank_dic.values))) == 2:\n",
        "    print(list(rank_dic.keys)[0,1])\n",
        "\n",
        "  if len(set(list(rank_dic.values))) == 3:\n",
        "    print(list(rank_dic.keys)[0,1,2])\n",
        "\n",
        "solution([1,2,3,4,5])"
      ]
    },
    {
      "cell_type": "code",
      "source": [
        "scores = [0] * 3"
      ],
      "metadata": {
        "id": "y9-nyQ12XAe0"
      },
      "execution_count": 12,
      "outputs": []
    },
    {
      "cell_type": "code",
      "source": [
        "scores"
      ],
      "metadata": {
        "colab": {
          "base_uri": "https://localhost:8080/"
        },
        "id": "_--XgrL5g2g0",
        "outputId": "91d30c91-3ac8-4280-bce3-f0b7476b6e63"
      },
      "execution_count": 13,
      "outputs": [
        {
          "output_type": "execute_result",
          "data": {
            "text/plain": [
              "[0, 0, 0]"
            ]
          },
          "metadata": {},
          "execution_count": 13
        }
      ]
    },
    {
      "cell_type": "code",
      "source": [
        "patterns = [[0,1], [2,3], [4,5]]\n",
        "\n",
        "for i, pattern in enumerate(patterns):\n",
        "  print(i, pattern)"
      ],
      "metadata": {
        "colab": {
          "base_uri": "https://localhost:8080/"
        },
        "id": "v6vA4AGSg3jk",
        "outputId": "374b7cf1-59cd-4d77-eecc-834dbac2bb89"
      },
      "execution_count": 14,
      "outputs": [
        {
          "output_type": "stream",
          "name": "stdout",
          "text": [
            "0 [0, 1]\n",
            "1 [2, 3]\n",
            "2 [4, 5]\n"
          ]
        }
      ]
    },
    {
      "cell_type": "code",
      "source": [
        "# answer\n",
        "\n",
        "def solution(answers):\n",
        "\n",
        "  # 수포자 들의 패턴\n",
        "  patterns = [\n",
        "      [1, 2, 3, 4, 5],\n",
        "      [2, 1, 2, 3, 2, 4, 2, 5],\n",
        "      [3, 3, 1, 1, 2, 2, 4, 4, 5, 5]\n",
        "  ]\n",
        "\n",
        "  # 수포자들의 점수를 저장할 리스트\n",
        "  scores = [0] * 3\n",
        "\n",
        "  # 각 수포자의 패턴과 정답이 얼마나 일치하는지 확인\n",
        "  for i, answer in enumerate(answers): # if ansers = [1,2,3,4,5] > i=0~4, answer = 1~5\n",
        "    for j, pattern in enumerate(patterns): # if patterns = [[1, 2, 3, 4, 5]...[3,3...]] , j=0~2, pattern = []lst 3\n",
        "      if answer == pattern[i % len(pattern)]: # 1st try, answer = 1, pattern = [1,2,3,4,5] i=0 /\n",
        "        scores[j] += 1\n",
        "\n",
        "  # 가장 높은 점수 저장\n",
        "  max_score = max(scores)\n",
        "\n",
        "  # 가장 높은 점수를 가진 수포자들의 번호를 찾아서 리스트에 담음\n",
        "  highest_scores = []\n",
        "  for i, score in enumerate(scores):\n",
        "    if score == max_score:\n",
        "      highest_scores.append(i + 1)\n",
        "\n",
        "  return highest_scores"
      ],
      "metadata": {
        "id": "qW3N-zsnhdBc"
      },
      "execution_count": 15,
      "outputs": []
    }
  ]
}